{
 "cells": [
  {
   "cell_type": "code",
   "execution_count": 1,
   "id": "valuable-marble",
   "metadata": {},
   "outputs": [
    {
     "name": "stdout",
     "output_type": "stream",
     "text": [
      "['/home/chiyo/.vscode-server/data/hacks/hack-7-scripting/notebooks', '/home/chiyo/miniconda3/lib/python38.zip', '/home/chiyo/miniconda3/lib/python3.8', '/home/chiyo/miniconda3/lib/python3.8/lib-dynload', '', '/home/chiyo/.local/lib/python3.8/site-packages', '/home/chiyo/miniconda3/lib/python3.8/site-packages', '/home/chiyo/miniconda3/lib/python3.8/site-packages/IPython/extensions', '/home/chiyo/.ipython']\n"
     ]
    }
   ],
   "source": [
    "# import sys from the standard lib\n",
    "import sys\n",
    "print(sys.path)"
   ]
  },
  {
   "cell_type": "code",
   "execution_count": 2,
   "id": "developmental-heart",
   "metadata": {},
   "outputs": [
    {
     "name": "stdout",
     "output_type": "stream",
     "text": [
      "['/home/chiyo/.vscode-server/data/hacks/hack-7-scripting/notebooks', '/home/chiyo/miniconda3/lib/python38.zip', '/home/chiyo/miniconda3/lib/python3.8', '/home/chiyo/miniconda3/lib/python3.8/lib-dynload', '', '/home/chiyo/.local/lib/python3.8/site-packages', '/home/chiyo/miniconda3/lib/python3.8/site-packages', '/home/chiyo/miniconda3/lib/python3.8/site-packages/IPython/extensions', '/home/chiyo/.ipython', '../']\n"
     ]
    }
   ],
   "source": [
    "import sys\n",
    "\n",
    "# append your current parent dir to the sys.path list\n",
    "sys.path.append(\"../\")\n",
    "\n",
    "# show the updated sys.path \n",
    "print(sys.path)"
   ]
  },
  {
   "cell_type": "code",
   "execution_count": 3,
   "id": "crude-atlantic",
   "metadata": {},
   "outputs": [
    {
     "data": {
      "text/plain": [
       "'It is certain.'"
      ]
     },
     "execution_count": 3,
     "metadata": {},
     "output_type": "execute_result"
    }
   ],
   "source": [
    "import mypackage.mymodule\n",
    "mypackage.mymodule.magic_eight_ball()"
   ]
  },
  {
   "cell_type": "code",
   "execution_count": 4,
   "id": "absent-wheel",
   "metadata": {},
   "outputs": [
    {
     "data": {
      "text/plain": [
       "'My reply is no'"
      ]
     },
     "execution_count": 4,
     "metadata": {},
     "output_type": "execute_result"
    }
   ],
   "source": [
    "from mypackage import mymodule\n",
    "mymodule.magic_eight_ball()"
   ]
  },
  {
   "cell_type": "code",
   "execution_count": 5,
   "id": "designing-roots",
   "metadata": {},
   "outputs": [
    {
     "data": {
      "text/plain": [
       "'You may rely on it.'"
      ]
     },
     "execution_count": 5,
     "metadata": {},
     "output_type": "execute_result"
    }
   ],
   "source": [
    "from mypackage.mymodule import magic_eight_ball\n",
    "magic_eight_ball()"
   ]
  },
  {
   "cell_type": "code",
   "execution_count": 6,
   "id": "democratic-uzbekistan",
   "metadata": {
    "scrolled": true
   },
   "outputs": [
    {
     "ename": "ModuleNotFoundError",
     "evalue": "No module named 'mypackage'",
     "output_type": "error",
     "traceback": [
      "\u001b[0;31m---------------------------------------------------------------------------\u001b[0m",
      "\u001b[0;31mModuleNotFoundError\u001b[0m                       Traceback (most recent call last)",
      "\u001b[0;32m<ipython-input-6-ab23d3ab3f34>\u001b[0m in \u001b[0;36m<module>\u001b[0;34m\u001b[0m\n\u001b[1;32m      1\u001b[0m \u001b[0;31m# this workflow is not yet supported\u001b[0m\u001b[0;34m\u001b[0m\u001b[0;34m\u001b[0m\u001b[0;34m\u001b[0m\u001b[0m\n\u001b[0;32m----> 2\u001b[0;31m \u001b[0;32mimport\u001b[0m \u001b[0mmypackage\u001b[0m\u001b[0;34m\u001b[0m\u001b[0;34m\u001b[0m\u001b[0m\n\u001b[0m\u001b[1;32m      3\u001b[0m \u001b[0mmypackage\u001b[0m\u001b[0;34m.\u001b[0m\u001b[0mmymodule\u001b[0m\u001b[0;34m.\u001b[0m\u001b[0mmagic_eight_ball\u001b[0m\u001b[0;34m(\u001b[0m\u001b[0;34m)\u001b[0m\u001b[0;34m\u001b[0m\u001b[0;34m\u001b[0m\u001b[0m\n",
      "\u001b[0;31mModuleNotFoundError\u001b[0m: No module named 'mypackage'"
     ]
    }
   ],
   "source": [
    "# this workflow is not yet supported\n",
    "import mypackage\n",
    "mypackage.mymodule.magic_eight_ball()"
   ]
  },
  {
   "cell_type": "markdown",
   "id": "ideal-facing",
   "metadata": {},
   "source": [
    "After adding \\_\\_init.py\\_\\_:"
   ]
  },
  {
   "cell_type": "code",
   "execution_count": 7,
   "id": "presidential-omega",
   "metadata": {},
   "outputs": [],
   "source": [
    "# add our local package scope to sys.path\n",
    "import sys\n",
    "sys.path.append(\"..\")\n",
    "\n",
    "# access our module function from the package-level import\n",
    "import mypackage\n",
    "mypackage.mymodule.magic_eight_ball()\n",
    "\n",
    "# show the package-level docstring\n",
    "mypackage?"
   ]
  }
 ],
 "metadata": {
  "kernelspec": {
   "display_name": "Python 3",
   "language": "python",
   "name": "python3"
  },
  "language_info": {
   "codemirror_mode": {
    "name": "ipython",
    "version": 3
   },
   "file_extension": ".py",
   "mimetype": "text/x-python",
   "name": "python",
   "nbconvert_exporter": "python",
   "pygments_lexer": "ipython3",
   "version": "3.8.5"
  }
 },
 "nbformat": 4,
 "nbformat_minor": 5
}
